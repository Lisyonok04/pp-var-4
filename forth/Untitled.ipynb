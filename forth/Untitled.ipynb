{
 "cells": [
  {
   "cell_type": "code",
   "execution_count": 2,
   "id": "eb715975-6922-4443-9285-9f45142fd421",
   "metadata": {},
   "outputs": [],
   "source": [
    "import random\n",
    "from typing import List\n",
    "\n",
    "import cv2\n",
    "import matplotlib.pyplot as plt\n",
    "import pandas as pd"
   ]
  },
  {
   "cell_type": "code",
   "execution_count": 3,
   "id": "b17926b3-a864-48e9-bf14-06484a186e82",
   "metadata": {},
   "outputs": [
    {
     "name": "stdout",
     "output_type": "stream",
     "text": [
      "                        The Absolute Way Class name\n",
      "0     C:\\pp var 4\\dataset\\tulip\\0000.jpg      tulip\n",
      "1      C:\\pp var 4\\dataset\\rose\\0000.jpg       rose\n",
      "2     C:\\pp var 4\\dataset\\tulip\\0001.jpg      tulip\n",
      "3      C:\\pp var 4\\dataset\\rose\\0001.jpg       rose\n",
      "4     C:\\pp var 4\\dataset\\tulip\\0002.jpg      tulip\n",
      "...                                  ...        ...\n",
      "1995   C:\\pp var 4\\dataset\\rose\\0997.jpg       rose\n",
      "1996  C:\\pp var 4\\dataset\\tulip\\0998.jpg      tulip\n",
      "1997   C:\\pp var 4\\dataset\\rose\\0998.jpg       rose\n",
      "1998  C:\\pp var 4\\dataset\\tulip\\0999.jpg      tulip\n",
      "1999   C:\\pp var 4\\dataset\\rose\\0999.jpg       rose\n",
      "\n",
      "[2000 rows x 2 columns]\n"
     ]
    }
   ],
   "source": [
    "df: pd.DataFrame = pd.read_csv('Annotasion.csv', usecols = ['The Absolute Way', 'Class name']) \n",
    "print(df)"
   ]
  },
  {
   "cell_type": "code",
   "execution_count": 4,
   "id": "1ccfff8d-b3af-4dd8-ab0a-2b0a28e67db6",
   "metadata": {},
   "outputs": [
    {
     "name": "stdout",
     "output_type": "stream",
     "text": [
      "                                 absPath className\n",
      "0     C:\\pp var 4\\dataset\\tulip\\0000.jpg     tulip\n",
      "1      C:\\pp var 4\\dataset\\rose\\0000.jpg      rose\n",
      "2     C:\\pp var 4\\dataset\\tulip\\0001.jpg     tulip\n",
      "3      C:\\pp var 4\\dataset\\rose\\0001.jpg      rose\n",
      "4     C:\\pp var 4\\dataset\\tulip\\0002.jpg     tulip\n",
      "...                                  ...       ...\n",
      "1995   C:\\pp var 4\\dataset\\rose\\0997.jpg      rose\n",
      "1996  C:\\pp var 4\\dataset\\tulip\\0998.jpg     tulip\n",
      "1997   C:\\pp var 4\\dataset\\rose\\0998.jpg      rose\n",
      "1998  C:\\pp var 4\\dataset\\tulip\\0999.jpg     tulip\n",
      "1999   C:\\pp var 4\\dataset\\rose\\0999.jpg      rose\n",
      "\n",
      "[2000 rows x 2 columns]\n"
     ]
    }
   ],
   "source": [
    "df: pd.DataFrame = df.rename(columns={'The Absolute Way': 'absPath',\n",
    "               'Class name': 'className'})\n",
    "print(df)"
   ]
  },
  {
   "cell_type": "code",
   "execution_count": 5,
   "id": "49c6ca01-7f3a-4e5c-a828-7de0238c3be7",
   "metadata": {},
   "outputs": [
    {
     "name": "stdout",
     "output_type": "stream",
     "text": [
      "                                 absPath className  marks\n",
      "0     C:\\pp var 4\\dataset\\tulip\\0000.jpg     tulip      0\n",
      "1      C:\\pp var 4\\dataset\\rose\\0000.jpg      rose      1\n",
      "2     C:\\pp var 4\\dataset\\tulip\\0001.jpg     tulip      0\n",
      "3      C:\\pp var 4\\dataset\\rose\\0001.jpg      rose      1\n",
      "4     C:\\pp var 4\\dataset\\tulip\\0002.jpg     tulip      0\n",
      "...                                  ...       ...    ...\n",
      "1995   C:\\pp var 4\\dataset\\rose\\0997.jpg      rose      1\n",
      "1996  C:\\pp var 4\\dataset\\tulip\\0998.jpg     tulip      0\n",
      "1997   C:\\pp var 4\\dataset\\rose\\0998.jpg      rose      1\n",
      "1998  C:\\pp var 4\\dataset\\tulip\\0999.jpg     tulip      0\n",
      "1999   C:\\pp var 4\\dataset\\rose\\0999.jpg      rose      1\n",
      "\n",
      "[2000 rows x 3 columns]\n"
     ]
    }
   ],
   "source": [
    "df[\"marks\"] = 0\n",
    "df.loc[df[\"className\"] == \"rose\", \"marks\"] = 1\n",
    "print(df)"
   ]
  },
  {
   "cell_type": "code",
   "execution_count": null,
   "id": "fb4c4344-a426-4e0c-8ddc-572d7c7a5140",
   "metadata": {},
   "outputs": [],
   "source": [
    "heightimg: List[int] = []\n",
    "widthimg: List[int] = []\n",
    "depthimg: List[int] = []\n",
    "\n",
    "for i in range(df[\"absPath\"].size):\n",
    "    img = cv2.imread(df[\"absPath\"].iloc[i])\n",
    "    if img is not None:\n",
    "        heightimg.append(img.shape[0])\n",
    "        widthimg.append(img.shape[1])\n",
    "        depthimg.append(img.shape[2])\n",
    "    else:\n",
    "        heightimg.append(0)\n",
    "        widthimg.append(0)\n",
    "        depthimg.append(0)\n",
    "df[\"height\"] = heightimg\n",
    "df[\"width\"] = widthimg\n",
    "df[\"depth\"] = depthimg\n",
    "print(df)"
   ]
  },
  {
   "cell_type": "code",
   "execution_count": null,
   "id": "8b36839a-ef4c-4d91-9fb6-f9ef0533f7b7",
   "metadata": {},
   "outputs": [],
   "source": [
    "marks_stats = df['marks'].describe() \n",
    "height_stats = df['height'].describe() \n",
    "width_stats = df['width'].describe() \n",
    "depth_stats = df['depth'].describe() \n",
    "print(\"\\nstatistical information for marks\\n\", marks_stats)\n",
    "print(\"\\nstatistical information for height\\n\", height_stats)\n",
    "print(\"\\nstatistical information for width\\n\", width_stats)\n",
    "print(\"\\nstatistical information for depth\\n\", depth_stats)"
   ]
  },
  {
   "cell_type": "code",
   "execution_count": 11,
   "id": "8f3a62b1-9493-4fc3-92d6-851d9aee5fe7",
   "metadata": {},
   "outputs": [
    {
     "name": "stdout",
     "output_type": "stream",
     "text": [
      "                                absPath className  marks  height  width  depth\n",
      "1     C:\\pp var 4\\dataset\\rose\\0000.jpg      rose      1    1600   2400      3\n",
      "3     C:\\pp var 4\\dataset\\rose\\0001.jpg      rose      1    1125   1500      3\n",
      "5     C:\\pp var 4\\dataset\\rose\\0002.jpg      rose      1    1200   1920      3\n",
      "7     C:\\pp var 4\\dataset\\rose\\0003.jpg      rose      1     764   1143      3\n",
      "9     C:\\pp var 4\\dataset\\rose\\0004.jpg      rose      1    2250   3000      3\n",
      "...                                 ...       ...    ...     ...    ...    ...\n",
      "1991  C:\\pp var 4\\dataset\\rose\\0995.jpg      rose      1     800    480      3\n",
      "1993  C:\\pp var 4\\dataset\\rose\\0996.jpg      rose      1    1002    564      3\n",
      "1995  C:\\pp var 4\\dataset\\rose\\0997.jpg      rose      1     561    564      3\n",
      "1997  C:\\pp var 4\\dataset\\rose\\0998.jpg      rose      1     657    526      3\n",
      "1999  C:\\pp var 4\\dataset\\rose\\0999.jpg      rose      1     752    564      3\n",
      "\n",
      "[1000 rows x 6 columns]\n"
     ]
    }
   ],
   "source": [
    "def filter_df(df: pd.DataFrame, mark: int) -> pd.DataFrame:\n",
    "    df: pd.DataFrame = df[df.marks == mark]\n",
    "    return df\n",
    "\n",
    "print(filter_df(df, 1))"
   ]
  },
  {
   "cell_type": "code",
   "execution_count": null,
   "id": "f58e1139-9123-44bc-8ad9-0efaa40c65c0",
   "metadata": {},
   "outputs": [],
   "source": []
  }
 ],
 "metadata": {
  "kernelspec": {
   "display_name": "Python 3 (ipykernel)",
   "language": "python",
   "name": "python3"
  },
  "language_info": {
   "codemirror_mode": {
    "name": "ipython",
    "version": 3
   },
   "file_extension": ".py",
   "mimetype": "text/x-python",
   "name": "python",
   "nbconvert_exporter": "python",
   "pygments_lexer": "ipython3",
   "version": "3.11.5"
  }
 },
 "nbformat": 4,
 "nbformat_minor": 5
}
