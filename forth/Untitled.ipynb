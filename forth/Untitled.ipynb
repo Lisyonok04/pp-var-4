{
 "cells": [
  {
   "cell_type": "code",
   "execution_count": 2,
   "id": "eb715975-6922-4443-9285-9f45142fd421",
   "metadata": {},
   "outputs": [],
   "source": [
    "import random\n",
    "from typing import List\n",
    "\n",
    "import cv2\n",
    "import matplotlib.pyplot as plt\n",
    "import pandas as pd"
   ]
  },
  {
   "cell_type": "code",
   "execution_count": 3,
   "id": "b17926b3-a864-48e9-bf14-06484a186e82",
   "metadata": {},
   "outputs": [
    {
     "name": "stdout",
     "output_type": "stream",
     "text": [
      "                        The Absolute Way Class name\n",
      "0     C:\\pp var 4\\dataset\\tulip\\0000.jpg      tulip\n",
      "1      C:\\pp var 4\\dataset\\rose\\0000.jpg       rose\n",
      "2     C:\\pp var 4\\dataset\\tulip\\0001.jpg      tulip\n",
      "3      C:\\pp var 4\\dataset\\rose\\0001.jpg       rose\n",
      "4     C:\\pp var 4\\dataset\\tulip\\0002.jpg      tulip\n",
      "...                                  ...        ...\n",
      "1995   C:\\pp var 4\\dataset\\rose\\0997.jpg       rose\n",
      "1996  C:\\pp var 4\\dataset\\tulip\\0998.jpg      tulip\n",
      "1997   C:\\pp var 4\\dataset\\rose\\0998.jpg       rose\n",
      "1998  C:\\pp var 4\\dataset\\tulip\\0999.jpg      tulip\n",
      "1999   C:\\pp var 4\\dataset\\rose\\0999.jpg       rose\n",
      "\n",
      "[2000 rows x 2 columns]\n"
     ]
    }
   ],
   "source": [
    "df: pd.DataFrame = pd.read_csv('Annotasion.csv', usecols = ['The Absolute Way', 'Class name']) \n",
    "print(df)"
   ]
  },
  {
   "cell_type": "code",
   "execution_count": 4,
   "id": "1ccfff8d-b3af-4dd8-ab0a-2b0a28e67db6",
   "metadata": {},
   "outputs": [
    {
     "name": "stdout",
     "output_type": "stream",
     "text": [
      "                                 absPath className\n",
      "0     C:\\pp var 4\\dataset\\tulip\\0000.jpg     tulip\n",
      "1      C:\\pp var 4\\dataset\\rose\\0000.jpg      rose\n",
      "2     C:\\pp var 4\\dataset\\tulip\\0001.jpg     tulip\n",
      "3      C:\\pp var 4\\dataset\\rose\\0001.jpg      rose\n",
      "4     C:\\pp var 4\\dataset\\tulip\\0002.jpg     tulip\n",
      "...                                  ...       ...\n",
      "1995   C:\\pp var 4\\dataset\\rose\\0997.jpg      rose\n",
      "1996  C:\\pp var 4\\dataset\\tulip\\0998.jpg     tulip\n",
      "1997   C:\\pp var 4\\dataset\\rose\\0998.jpg      rose\n",
      "1998  C:\\pp var 4\\dataset\\tulip\\0999.jpg     tulip\n",
      "1999   C:\\pp var 4\\dataset\\rose\\0999.jpg      rose\n",
      "\n",
      "[2000 rows x 2 columns]\n"
     ]
    }
   ],
   "source": [
    "df: pd.DataFrame = df.rename(columns={'The Absolute Way': 'absPath',\n",
    "               'Class name': 'className'})\n",
    "print(df)"
   ]
  },
  {
   "cell_type": "code",
   "execution_count": 5,
   "id": "49c6ca01-7f3a-4e5c-a828-7de0238c3be7",
   "metadata": {},
   "outputs": [
    {
     "name": "stdout",
     "output_type": "stream",
     "text": [
      "                                 absPath className  marks\n",
      "0     C:\\pp var 4\\dataset\\tulip\\0000.jpg     tulip      0\n",
      "1      C:\\pp var 4\\dataset\\rose\\0000.jpg      rose      1\n",
      "2     C:\\pp var 4\\dataset\\tulip\\0001.jpg     tulip      0\n",
      "3      C:\\pp var 4\\dataset\\rose\\0001.jpg      rose      1\n",
      "4     C:\\pp var 4\\dataset\\tulip\\0002.jpg     tulip      0\n",
      "...                                  ...       ...    ...\n",
      "1995   C:\\pp var 4\\dataset\\rose\\0997.jpg      rose      1\n",
      "1996  C:\\pp var 4\\dataset\\tulip\\0998.jpg     tulip      0\n",
      "1997   C:\\pp var 4\\dataset\\rose\\0998.jpg      rose      1\n",
      "1998  C:\\pp var 4\\dataset\\tulip\\0999.jpg     tulip      0\n",
      "1999   C:\\pp var 4\\dataset\\rose\\0999.jpg      rose      1\n",
      "\n",
      "[2000 rows x 3 columns]\n"
     ]
    }
   ],
   "source": [
    "df[\"marks\"] = 0\n",
    "df.loc[df[\"className\"] == \"rose\", \"marks\"] = 1\n",
    "print(df)"
   ]
  },
  {
   "cell_type": "code",
   "execution_count": 6,
   "id": "fb4c4344-a426-4e0c-8ddc-572d7c7a5140",
   "metadata": {},
   "outputs": [
    {
     "name": "stdout",
     "output_type": "stream",
     "text": [
      "                                 absPath className  marks  height  width  \\\n",
      "0     C:\\pp var 4\\dataset\\tulip\\0000.jpg     tulip      0    2146   3000   \n",
      "1      C:\\pp var 4\\dataset\\rose\\0000.jpg      rose      1    1600   2400   \n",
      "2     C:\\pp var 4\\dataset\\tulip\\0001.jpg     tulip      0    2000   3000   \n",
      "3      C:\\pp var 4\\dataset\\rose\\0001.jpg      rose      1    1125   1500   \n",
      "4     C:\\pp var 4\\dataset\\tulip\\0002.jpg     tulip      0    1346   2083   \n",
      "...                                  ...       ...    ...     ...    ...   \n",
      "1995   C:\\pp var 4\\dataset\\rose\\0997.jpg      rose      1     561    564   \n",
      "1996  C:\\pp var 4\\dataset\\tulip\\0998.jpg     tulip      0    2000   3000   \n",
      "1997   C:\\pp var 4\\dataset\\rose\\0998.jpg      rose      1     657    526   \n",
      "1998  C:\\pp var 4\\dataset\\tulip\\0999.jpg     tulip      0     750    563   \n",
      "1999   C:\\pp var 4\\dataset\\rose\\0999.jpg      rose      1     752    564   \n",
      "\n",
      "      depth  \n",
      "0         3  \n",
      "1         3  \n",
      "2         3  \n",
      "3         3  \n",
      "4         3  \n",
      "...     ...  \n",
      "1995      3  \n",
      "1996      3  \n",
      "1997      3  \n",
      "1998      3  \n",
      "1999      3  \n",
      "\n",
      "[2000 rows x 6 columns]\n"
     ]
    }
   ],
   "source": [
    "heightimg: List[int] = []\n",
    "widthimg: List[int] = []\n",
    "depthimg: List[int] = []\n",
    "\n",
    "for i in range(df[\"absPath\"].size):\n",
    "    img = cv2.imread(df[\"absPath\"].iloc[i])\n",
    "    if img is not None:\n",
    "        heightimg.append(img.shape[0])\n",
    "        widthimg.append(img.shape[1])\n",
    "        depthimg.append(img.shape[2])\n",
    "    else:\n",
    "        heightimg.append(0)\n",
    "        widthimg.append(0)\n",
    "        depthimg.append(0)\n",
    "df[\"height\"] = heightimg\n",
    "df[\"width\"] = widthimg\n",
    "df[\"depth\"] = depthimg\n",
    "print(df)"
   ]
  },
  {
   "cell_type": "code",
   "execution_count": 7,
   "id": "8b36839a-ef4c-4d91-9fb6-f9ef0533f7b7",
   "metadata": {},
   "outputs": [
    {
     "name": "stdout",
     "output_type": "stream",
     "text": [
      "\n",
      "statistical information for marks\n",
      " count    2000.000000\n",
      "mean        0.500000\n",
      "std         0.500125\n",
      "min         0.000000\n",
      "25%         0.000000\n",
      "50%         0.500000\n",
      "75%         1.000000\n",
      "max         1.000000\n",
      "Name: marks, dtype: float64\n",
      "\n",
      "statistical information for height\n",
      " count    2000.000000\n",
      "mean     1447.313500\n",
      "std       625.583014\n",
      "min         0.000000\n",
      "25%      1080.000000\n",
      "50%      1278.000000\n",
      "75%      1838.500000\n",
      "max      7498.000000\n",
      "Name: height, dtype: float64\n",
      "\n",
      "statistical information for width\n",
      " count    2000.000000\n",
      "mean     1926.659500\n",
      "std       836.691142\n",
      "min         0.000000\n",
      "25%      1280.000000\n",
      "50%      1920.000000\n",
      "75%      2560.000000\n",
      "max      8000.000000\n",
      "Name: width, dtype: float64\n",
      "\n",
      "statistical information for depth\n",
      " count    2000.000000\n",
      "mean        2.991000\n",
      "std         0.164111\n",
      "min         0.000000\n",
      "25%         3.000000\n",
      "50%         3.000000\n",
      "75%         3.000000\n",
      "max         3.000000\n",
      "Name: depth, dtype: float64\n"
     ]
    }
   ],
   "source": [
    "marks_stats = df['marks'].describe() \n",
    "height_stats = df['height'].describe() \n",
    "width_stats = df['width'].describe() \n",
    "depth_stats = df['depth'].describe() \n",
    "print(\"\\nstatistical information for marks\\n\", marks_stats)\n",
    "print(\"\\nstatistical information for height\\n\", height_stats)\n",
    "print(\"\\nstatistical information for width\\n\", width_stats)\n",
    "print(\"\\nstatistical information for depth\\n\", depth_stats)"
   ]
  }
 ],
 "metadata": {
  "kernelspec": {
   "display_name": "Python 3 (ipykernel)",
   "language": "python",
   "name": "python3"
  },
  "language_info": {
   "codemirror_mode": {
    "name": "ipython",
    "version": 3
   },
   "file_extension": ".py",
   "mimetype": "text/x-python",
   "name": "python",
   "nbconvert_exporter": "python",
   "pygments_lexer": "ipython3",
   "version": "3.11.5"
  }
 },
 "nbformat": 4,
 "nbformat_minor": 5
}
