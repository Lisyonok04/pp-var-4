{
 "cells": [
  {
   "cell_type": "code",
   "execution_count": 9,
   "id": "d909e374-2eac-4feb-ac55-9ab7692d9c37",
   "metadata": {},
   "outputs": [],
   "source": [
    "import os\n",
    "import csv\n",
    "from typing import Any, Tuple, List\n",
    "\n",
    "import torch\n",
    "import torch.optim as optim\n",
    "from torch import nn\n",
    "from torch.utils.data import Dataset, DataLoader\n",
    "import torchvision\n",
    "from torchvision import transforms\n",
    "import matplotlib.pyplot as plt\n",
    "import pandas as pd\n",
    "import numpy as np\n",
    "import cv2"
   ]
  },
  {
   "cell_type": "code",
   "execution_count": 2,
   "id": "2290fde5-7578-4ab2-affd-deb27d83acd6",
   "metadata": {},
   "outputs": [],
   "source": [
    "class MyDataset(Dataset):\n",
    "    def __init__(self, path_to_annot_file: str, transform: Any=None, train: bool=False, test: bool=False, valid: bool=False) -> None:\n",
    "        self.path_to_annot_file = path_to_annot_file\n",
    "        self.data = self.get_data(path_to_annot_file, train, test, valid)\n",
    "        self.transform = transform\n",
    "\n",
    "    def get_data(self, path_to_annot_file: str, train: bool=False, test: bool=False, valid: bool=False) -> pd.DataFrame:\n",
    "        data = pd.read_csv(path_to_annot_file, usecols = (0, 2), names = ('path_to_image', 'label'))\n",
    "        data = data.sample(frac=1).reset_index(drop=True)\n",
    "        data['label'] = data['label'].apply(lambda label: 0 if label == 'rose' else 1)\n",
    "        train_size = int(0.8 * data.shape[0])\n",
    "        test_valid_size = int(0.1 * data.shape[0])\n",
    "        if train == True:\n",
    "            data = data.iloc[:train_size, :]\n",
    "        elif test == True:\n",
    "            data = data.iloc[train_size:train_size + test_valid_size, :]\n",
    "        elif valid == True:\n",
    "            data = data.iloc[train_size + test_valid_size:, :]\n",
    "        return data\n",
    "\n",
    "    def __len__(self) -> int:\n",
    "        return len(self.data)\n",
    "\n",
    "    def __getitem__(self, index: int) -> Tuple[torch.tensor, int]:\n",
    "        path_to_image = self.data.iloc[index, 0]\n",
    "        image = cv2.cvtColor(cv2.imread(path_to_image), cv2.COLOR_BGR2RGB)\n",
    "        label = self.data.iloc[index, 1]\n",
    "        if self.transform:\n",
    "            image = self.transform(image)\n",
    "        return image, label"
   ]
  },
  {
   "cell_type": "code",
   "execution_count": 3,
   "id": "75f716f1-4ec7-4460-b291-af77da66a4c0",
   "metadata": {},
   "outputs": [],
   "source": [
    "transforms = torchvision.transforms.Compose([torchvision.transforms.ToTensor(),\n",
    "                                                    torchvision.transforms.Resize((224, 224)),\n",
    "                                                    torchvision.transforms.Normalize((0.485, 0.456, 0.406), (0.229, 0.224, 0.225)),\n",
    "                                                    torchvision.transforms.RandomHorizontalFlip(p=0.5)])"
   ]
  },
  {
   "cell_type": "code",
   "execution_count": 8,
   "id": "40c0d984-fdd6-450f-8e1d-388b7be5a8b1",
   "metadata": {},
   "outputs": [
    {
     "data": {
      "text/plain": [
       "(1600, 200, 201)"
      ]
     },
     "execution_count": 8,
     "metadata": {},
     "output_type": "execute_result"
    }
   ],
   "source": [
    "train_data = MyDataset(path_to_annot_file='Annotasion.csv', transform=transforms, train = True)\n",
    "test_data = MyDataset(path_to_annot_file='Annotasion.csv', transform=transforms, test = True)\n",
    "valid_data = MyDataset(path_to_annot_file='Annotasion.csv', transform=transforms, valid = True)\n",
    "len(train_data), len(test_data), len(valid_data)"
   ]
  },
  {
   "cell_type": "code",
   "execution_count": 16,
   "id": "0e7e6c67-4a6d-4d33-aa22-26dec228db51",
   "metadata": {},
   "outputs": [
    {
     "name": "stdout",
     "output_type": "stream",
     "text": [
      "                                 absPath className\n",
      "0     C:\\pp var 4\\dataset\\tulip\\0000.jpg     tulip\n",
      "1      C:\\pp var 4\\dataset\\rose\\0000.jpg      rose\n",
      "4     C:\\pp var 4\\dataset\\tulip\\0002.jpg     tulip\n",
      "5      C:\\pp var 4\\dataset\\rose\\0002.jpg      rose\n",
      "6     C:\\pp var 4\\dataset\\tulip\\0003.jpg     tulip\n",
      "...                                  ...       ...\n",
      "1995   C:\\pp var 4\\dataset\\rose\\0997.jpg      rose\n",
      "1996  C:\\pp var 4\\dataset\\tulip\\0998.jpg     tulip\n",
      "1997   C:\\pp var 4\\dataset\\rose\\0998.jpg      rose\n",
      "1998  C:\\pp var 4\\dataset\\tulip\\0999.jpg     tulip\n",
      "1999   C:\\pp var 4\\dataset\\rose\\0999.jpg      rose\n",
      "\n",
      "[1586 rows x 2 columns]\n",
      "                                 absPath className\n",
      "2     C:\\pp var 4\\dataset\\tulip\\0001.jpg     tulip\n",
      "3      C:\\pp var 4\\dataset\\rose\\0001.jpg      rose\n",
      "20    C:\\pp var 4\\dataset\\tulip\\0010.jpg     tulip\n",
      "22    C:\\pp var 4\\dataset\\tulip\\0011.jpg     tulip\n",
      "38    C:\\pp var 4\\dataset\\tulip\\0019.jpg     tulip\n",
      "...                                  ...       ...\n",
      "1931   C:\\pp var 4\\dataset\\rose\\0965.jpg      rose\n",
      "1944  C:\\pp var 4\\dataset\\tulip\\0972.jpg     tulip\n",
      "1945   C:\\pp var 4\\dataset\\rose\\0972.jpg      rose\n",
      "1950  C:\\pp var 4\\dataset\\tulip\\0975.jpg     tulip\n",
      "1978  C:\\pp var 4\\dataset\\tulip\\0989.jpg     tulip\n",
      "\n",
      "[213 rows x 2 columns]\n",
      "                                 absPath className\n",
      "7      C:\\pp var 4\\dataset\\rose\\0003.jpg      rose\n",
      "12    C:\\pp var 4\\dataset\\tulip\\0006.jpg     tulip\n",
      "17     C:\\pp var 4\\dataset\\rose\\0008.jpg      rose\n",
      "26    C:\\pp var 4\\dataset\\tulip\\0013.jpg     tulip\n",
      "36    C:\\pp var 4\\dataset\\tulip\\0018.jpg     tulip\n",
      "...                                  ...       ...\n",
      "1921   C:\\pp var 4\\dataset\\rose\\0960.jpg      rose\n",
      "1930  C:\\pp var 4\\dataset\\tulip\\0965.jpg     tulip\n",
      "1942  C:\\pp var 4\\dataset\\tulip\\0971.jpg     tulip\n",
      "1952  C:\\pp var 4\\dataset\\tulip\\0976.jpg     tulip\n",
      "1989   C:\\pp var 4\\dataset\\rose\\0994.jpg      rose\n",
      "\n",
      "[201 rows x 2 columns]\n"
     ]
    }
   ],
   "source": []
  },
  {
   "cell_type": "code",
   "execution_count": null,
   "id": "6346774d-bcb8-4817-968e-2280d366d2b8",
   "metadata": {},
   "outputs": [],
   "source": []
  },
  {
   "cell_type": "code",
   "execution_count": null,
   "id": "b8ce214c-f6fb-4750-8a28-09790743f6ab",
   "metadata": {},
   "outputs": [],
   "source": []
  }
 ],
 "metadata": {
  "kernelspec": {
   "display_name": "Python 3 (ipykernel)",
   "language": "python",
   "name": "python3"
  },
  "language_info": {
   "codemirror_mode": {
    "name": "ipython",
    "version": 3
   },
   "file_extension": ".py",
   "mimetype": "text/x-python",
   "name": "python",
   "nbconvert_exporter": "python",
   "pygments_lexer": "ipython3",
   "version": "3.11.5"
  }
 },
 "nbformat": 4,
 "nbformat_minor": 5
}
